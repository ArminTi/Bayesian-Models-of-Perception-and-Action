{
 "cells": [
  {
   "cell_type": "markdown",
   "id": "1448325f-023b-48ce-8f78-a8366eed8eb7",
   "metadata": {},
   "source": [
    "# Discrimination and detection"
   ]
  },
  {
   "cell_type": "code",
   "execution_count": 5,
   "id": "f8db767d-5873-4a8d-b6d9-e578761e3f20",
   "metadata": {},
   "outputs": [],
   "source": [
    "import numpy as np\n",
    "import matplotlib.pyplot as plt\n",
    "import pandas as pd\n",
    "import scipy as sp\n",
    "from scipy import stats\n",
    "import seaborn as sns\n",
    "#import pymc as pm\n",
    "#import arviz as az\n",
    "import scipy.optimize as opt\n",
    "from scipy.optimize import minimize\n",
    "from scipy.stats import norm\n",
    "import imageio\n",
    "import warnings\n",
    "import random\n",
    "warnings.filterwarnings(\"ignore\")"
   ]
  },
  {
   "cell_type": "markdown",
   "id": "9f262506-8aa7-4ab1-8cdb-d607061f8d16",
   "metadata": {},
   "source": [
    "## Problem 7.2"
   ]
  },
  {
   "cell_type": "markdown",
   "id": "935177e6-c9c0-494e-b547-4401362eb995",
   "metadata": {},
   "source": [
    "Suppose the prior distribution and the posterior distribution are as in Fig. 7.2.\n",
    "a) Calculate the likelihood ratio.\n",
    "b) Does the sensory evidence alone (without the prior) indicate that the stimulus was s+ or s−?\n",
    "c) Do the prior and the likelihood favor the same alternative?"
   ]
  },
  {
   "cell_type": "code",
   "execution_count": 26,
   "id": "93c88a63-23e3-4407-a15e-84ac064a9b01",
   "metadata": {},
   "outputs": [
    {
     "data": {
      "text/plain": [
       "0.23683607010461172"
      ]
     },
     "execution_count": 26,
     "metadata": {},
     "output_type": "execute_result"
    }
   ],
   "source": [
    "posterior_S_neg = 0.55\n",
    "posterior_S_pos = 0.45\n",
    "\n",
    "prior_S_neg = 0.7\n",
    "prior_S_pos = 0.3\n",
    "\n",
    "d =  np.log(posterior_S_pos/posterior_S_neg)\n",
    "prior_ratio = np.log(prior_S_pos/prior_S_neg)\n",
    "likelihood_ratio = d/prior_ratio\n",
    "likelihood_ratio"
   ]
  },
  {
   "cell_type": "code",
   "execution_count": 28,
   "id": "9fe19d5b-1c99-453f-9f6a-67c32824a362",
   "metadata": {},
   "outputs": [
    {
     "data": {
      "text/plain": [
       "-0.20067069546215124"
      ]
     },
     "execution_count": 28,
     "metadata": {},
     "output_type": "execute_result"
    }
   ],
   "source": [
    "d"
   ]
  },
  {
   "cell_type": "code",
   "execution_count": 30,
   "id": "8dc43f88-b367-4bbe-b39a-a8947dfe4b0c",
   "metadata": {},
   "outputs": [
    {
     "data": {
      "text/plain": [
       "-0.8472978603872036"
      ]
     },
     "execution_count": 30,
     "metadata": {},
     "output_type": "execute_result"
    }
   ],
   "source": [
    "prior_ratio"
   ]
  },
  {
   "cell_type": "markdown",
   "id": "f736199d-7921-4e6a-b598-ad7ae857ad86",
   "metadata": {},
   "source": [
    "As we can see here, d or log posterior ratio is not positive, which means that the s- is favorable. but without considering the prior, log likelihood ratio is positive which favors the s positive. In that sense, the answer is no. without considering prior or with sensory evidence alone we cant indicate the true stimulus."
   ]
  },
  {
   "cell_type": "markdown",
   "id": "c05de012-5f9e-45b5-a30b-80d1c8a593a2",
   "metadata": {},
   "source": [
    "## Problem 7.3"
   ]
  },
  {
   "cell_type": "markdown",
   "id": "fe444fc1-c595-4f04-ae9a-f7b7c2df17f5",
   "metadata": {},
   "source": [
    "In this problem, we explore the relationship between posterior probabilities and log\n",
    "posterior ratio numerically."
   ]
  },
  {
   "cell_type": "markdown",
   "id": "fa22b247-1148-48e3-ae79-d16ee715345f",
   "metadata": {},
   "source": [
    "### Part a"
   ]
  },
  {
   "cell_type": "markdown",
   "id": "909b5bb8-e373-4460-a103-08deaf80dfc0",
   "metadata": {},
   "source": [
    "a) Create a vector of 99 possible posterior probabilities of s+, from 0.01 to 0.99 in steps of 0.01.\n",
    "For each value, calculate the log posterior ratio d = log p(s=s+|x)\n",
    "p(s=s−|x). Then plot this ratio as a\n",
    "function of the posterior probability of s+. This should show that every posterior probability\n",
    "corresponds to exactly one log posterior ratio and the other way round (we are dealing with\n",
    "monotonic functions). Knowing one is as good as knowing the other."
   ]
  },
  {
   "cell_type": "code",
   "execution_count": 85,
   "id": "77fa671a-7a14-4f56-9f97-86cf7137a3d6",
   "metadata": {},
   "outputs": [],
   "source": [
    "pos_probability = np.arange(0.01,1, 0.01)"
   ]
  },
  {
   "cell_type": "code",
   "execution_count": 87,
   "id": "f338f0a6-9f87-400d-a63a-74d3a7e1fc85",
   "metadata": {},
   "outputs": [
    {
     "data": {
      "text/plain": [
       "array([0.01, 0.02, 0.03, 0.04, 0.05, 0.06, 0.07, 0.08, 0.09, 0.1 , 0.11,\n",
       "       0.12, 0.13, 0.14, 0.15, 0.16, 0.17, 0.18, 0.19, 0.2 , 0.21, 0.22,\n",
       "       0.23, 0.24, 0.25, 0.26, 0.27, 0.28, 0.29, 0.3 , 0.31, 0.32, 0.33,\n",
       "       0.34, 0.35, 0.36, 0.37, 0.38, 0.39, 0.4 , 0.41, 0.42, 0.43, 0.44,\n",
       "       0.45, 0.46, 0.47, 0.48, 0.49, 0.5 , 0.51, 0.52, 0.53, 0.54, 0.55,\n",
       "       0.56, 0.57, 0.58, 0.59, 0.6 , 0.61, 0.62, 0.63, 0.64, 0.65, 0.66,\n",
       "       0.67, 0.68, 0.69, 0.7 , 0.71, 0.72, 0.73, 0.74, 0.75, 0.76, 0.77,\n",
       "       0.78, 0.79, 0.8 , 0.81, 0.82, 0.83, 0.84, 0.85, 0.86, 0.87, 0.88,\n",
       "       0.89, 0.9 , 0.91, 0.92, 0.93, 0.94, 0.95, 0.96, 0.97, 0.98, 0.99])"
      ]
     },
     "execution_count": 87,
     "metadata": {},
     "output_type": "execute_result"
    }
   ],
   "source": [
    "pos_probability"
   ]
  },
  {
   "cell_type": "code",
   "execution_count": 73,
   "id": "7b1abc0b-7171-426f-af66-8b08a6f62589",
   "metadata": {},
   "outputs": [
    {
     "data": {
      "text/plain": [
       "99"
      ]
     },
     "execution_count": 73,
     "metadata": {},
     "output_type": "execute_result"
    }
   ],
   "source": [
    "d = np.log(pos_probability/(1 - pos_probability))\n",
    "len(d)"
   ]
  },
  {
   "cell_type": "code",
   "execution_count": 83,
   "id": "a7b72bbd-90e8-4465-b214-dc4430f35501",
   "metadata": {},
   "outputs": [
    {
     "data": {
      "text/plain": [
       "Text(0, 0.5, 'Log posterior ratio')"
      ]
     },
     "execution_count": 83,
     "metadata": {},
     "output_type": "execute_result"
    },
    {
     "data": {
      "image/png": "[encoded data removed]",
      "text/plain": [
       "<Figure size 640x480 with 1 Axes>"
      ]
     },
     "metadata": {},
     "output_type": "display_data"
    }
   ],
   "source": [
    "plt.scatter(pos_probability, d)\n",
    "plt.xlabel('Posterior probability of s+')\n",
    "plt.ylabel('Log posterior ratio')"
   ]
  },
  {
   "cell_type": "markdown",
   "id": "9b3cf08e-3207-4786-9435-5f4cff6c18ff",
   "metadata": {},
   "source": [
    "### Part b"
   ]
  },
  {
   "cell_type": "markdown",
   "id": "391c882e-b7f2-44e9-99bd-1e0360066324",
   "metadata": {},
   "source": [
    "b) Why did we not include the posterior probabilities 0 and 1?"
   ]
  },
  {
   "cell_type": "markdown",
   "id": "bda5150d-58ac-41b6-bf84-d7c69da03bfe",
   "metadata": {},
   "source": [
    "The denominator of the fraction cannot be zero."
   ]
  },
  {
   "cell_type": "markdown",
   "id": "64623edc-b54e-4f67-bc56-d78786025cee",
   "metadata": {},
   "source": [
    "### Part c"
   ]
  },
  {
   "cell_type": "markdown",
   "id": "7e2dec83-4d72-4b2b-a11e-5755d3621235",
   "metadata": {},
   "source": [
    "c) Suppose you know the log posterior ratio d. Express the posterior probability of s = s+,\n",
    "p(s = s+|x), as a function of d only. Do the same for p(s = s−|x)."
   ]
  },
  {
   "cell_type": "markdown",
   "id": "4511df31-a63a-4f67-aa4d-cd2d6f569b1a",
   "metadata": {},
   "source": [
    "page 148"
   ]
  },
  {
   "cell_type": "markdown",
   "id": "67511664-231b-4a19-902c-5bd3e4b12154",
   "metadata": {},
   "source": [
    "### Part d"
   ]
  },
  {
   "cell_type": "markdown",
   "id": "97f22f0c-bb50-4450-aaca-c05d03b63b03",
   "metadata": {},
   "source": [
    "d) If the log posterior ratio is 0.1, what are the posterior probabilities of s+ and s−? What if the\n",
    "log posterior ratio is 1?"
   ]
  },
  {
   "cell_type": "code",
   "execution_count": 103,
   "id": "ed24a922-2bc3-44ef-aa40-c77cf002cee3",
   "metadata": {},
   "outputs": [],
   "source": [
    "d = 0.1"
   ]
  },
  {
   "cell_type": "code",
   "execution_count": 105,
   "id": "cbf13877-f59c-4bd8-8808-5f48f4dc74d1",
   "metadata": {},
   "outputs": [
    {
     "data": {
      "text/plain": [
       "[0.52497918747894, 0.47502081252106]"
      ]
     },
     "execution_count": 105,
     "metadata": {},
     "output_type": "execute_result"
    }
   ],
   "source": [
    "p_s_positive = 1/(1+np.exp(-d))\n",
    "p_s_negative = 1/(1+np.exp(d))\n",
    "posteriors = [p_s_positive, p_s_negative]\n",
    "posteriors"
   ]
  },
  {
   "cell_type": "code",
   "execution_count": 107,
   "id": "cd52a960-58ee-4c25-989d-a00dc6ca7006",
   "metadata": {},
   "outputs": [],
   "source": [
    "d = 1"
   ]
  },
  {
   "cell_type": "code",
   "execution_count": 109,
   "id": "a60f5ec0-e25d-4ddb-b746-d6f70c8a184e",
   "metadata": {},
   "outputs": [
    {
     "data": {
      "text/plain": [
       "[0.7310585786300049, 0.2689414213699951]"
      ]
     },
     "execution_count": 109,
     "metadata": {},
     "output_type": "execute_result"
    }
   ],
   "source": [
    "p_s_positive = 1/(1+np.exp(-d))\n",
    "p_s_negative = 1/(1+np.exp(d))\n",
    "posteriors = [p_s_positive, p_s_negative]\n",
    "posteriors"
   ]
  },
  {
   "cell_type": "markdown",
   "id": "75c786ea-808c-4cef-ae28-db8961c06e12",
   "metadata": {},
   "source": [
    "## Problem 7.4 "
   ]
  },
  {
   "cell_type": "markdown",
   "id": "b2b0be5f-4f28-4a5f-965f-5d05cb8e17a3",
   "metadata": {},
   "source": [
    "We formulated the decision rule as reporting one alternative d > 0 and the other when\r",
    "d < 0. Why does the case d(x) = 0 usually not have to be considered? What would the observer do\r",
    "when d(x) = 0?"
   ]
  },
  {
   "cell_type": "code",
   "execution_count": 113,
   "id": "163d32fd-6aa2-46fe-9db0-f54fe538b83b",
   "metadata": {},
   "outputs": [],
   "source": [
    "# lets see what happens first\n",
    "d = 0"
   ]
  },
  {
   "cell_type": "code",
   "execution_count": 115,
   "id": "0ac54daf-fc7d-4de5-82d8-94645db23bc2",
   "metadata": {},
   "outputs": [
    {
     "data": {
      "text/plain": [
       "[0.5, 0.5]"
      ]
     },
     "execution_count": 115,
     "metadata": {},
     "output_type": "execute_result"
    }
   ],
   "source": [
    "p_s_positive = 1/(1+np.exp(-d))\n",
    "p_s_negative = 1/(1+np.exp(d))\n",
    "posteriors = [p_s_positive, p_s_negative]\n",
    "posteriors"
   ]
  },
  {
   "cell_type": "markdown",
   "id": "c55056bf-8131-4cef-b8f0-1c0db9d1ba71",
   "metadata": {},
   "source": [
    "In this case the posteriors must be equal. Although this might not happen frequently, having the same probabilities for two options yeilds a random like decision (at least for me!)."
   ]
  },
  {
   "cell_type": "markdown",
   "id": "2186fdf0-4e38-4cbc-9126-827477378254",
   "metadata": {},
   "source": [
    "## Problem 7.6 "
   ]
  },
  {
   "cell_type": "markdown",
   "id": "2aac43e1-3c12-4f68-b442-ae7a5ecefb57",
   "metadata": {},
   "source": [
    "Suppose the stimulus s can take two values: s+ = 1◦ and s− = −1◦. Suppose that the\n",
    "measurement is normally distributed around s with standard deviation 0.5◦. On a given trial, the\n",
    "observer’s measurement is −0.1◦, and s = s+ occurs on 80% of trials. Would an optimal observer\n",
    "report that the stimulus was s+ or s−? Provide all the steps in your reasoning."
   ]
  },
  {
   "attachments": {
    "19d5b262-f0eb-40f8-90e7-9fb3274a649d.png": {
     "image/png": "[encoded data removed]"
    }
   },
   "cell_type": "markdown",
   "id": "503843f9-fd6e-47e6-a530-9f8b6b466c86",
   "metadata": {},
   "source": [
    "![image.png](attachment:19d5b262-f0eb-40f8-90e7-9fb3274a649d.png)"
   ]
  },
  {
   "cell_type": "code",
   "execution_count": 144,
   "id": "4ea9c3df-95f7-4d38-b773-079539adc859",
   "metadata": {},
   "outputs": [
    {
     "data": {
      "text/plain": [
       "(array([ 4.,  4.,  3., 17., 25., 14., 16.,  7.,  6.,  4.]),\n",
       " array([-2.23651843, -2.00777881, -1.77903919, -1.55029957, -1.32155994,\n",
       "        -1.09282032, -0.8640807 , -0.63534108, -0.40660146, -0.17786184,\n",
       "         0.05087779]),\n",
       " <BarContainer object of 10 artists>)"
      ]
     },
     "execution_count": 144,
     "metadata": {},
     "output_type": "execute_result"
    },
    {
     "data": {
      "image/png": "[encoded data removed]",
      "text/plain": [
       "<Figure size 640x480 with 1 Axes>"
      ]
     },
     "metadata": {},
     "output_type": "display_data"
    }
   ],
   "source": [
    "sigma = 0.5\n",
    "S_pos_dis = np.random.normal(1, sigma, 100)\n",
    "S_neg_dis = np.random.normal(-1, sigma, 100)\n",
    "\n",
    "\n",
    "plt.hist(S_pos)\n",
    "plt.hist(S_neg)"
   ]
  },
  {
   "cell_type": "code",
   "execution_count": 140,
   "id": "e97f4c52-b165-4443-b4b6-3f27d9c1fe0a",
   "metadata": {},
   "outputs": [
    {
     "name": "stdout",
     "output_type": "stream",
     "text": [
      "Simulus is negative\n"
     ]
    }
   ],
   "source": [
    "prior_ratio = np.log(80/20)\n",
    "delta_s = 2 #s_pos - s_neg\n",
    "s = 0\n",
    "x = -0.1\n",
    "var = 0.5**2\n",
    "k_map = s - (var/delta_s) * prior_ratio\n",
    "\n",
    "if k_map>x:\n",
    "    print(\"simulus is s positive\")\n",
    "else:\n",
    "    print(\"Simulus is negative\")"
   ]
  },
  {
   "cell_type": "code",
   "execution_count": 142,
   "id": "5ac4147c-2bd4-4346-a704-ddcfd1a6ec80",
   "metadata": {},
   "outputs": [
    {
     "data": {
      "text/plain": [
       "-0.17328679513998632"
      ]
     },
     "execution_count": 142,
     "metadata": {},
     "output_type": "execute_result"
    }
   ],
   "source": [
    "k_map"
   ]
  },
  {
   "cell_type": "code",
   "execution_count": null,
   "id": "09457fab-6bb5-4948-b60a-74fdcbdaa19d",
   "metadata": {},
   "outputs": [],
   "source": []
  }
 ],
 "metadata": {
  "kernelspec": {
   "display_name": "Python 3 (ipykernel)",
   "language": "python",
   "name": "python3"
  },
  "language_info": {
   "codemirror_mode": {
    "name": "ipython",
    "version": 3
   },
   "file_extension": ".py",
   "mimetype": "text/x-python",
   "name": "python",
   "nbconvert_exporter": "python",
   "pygments_lexer": "ipython3",
   "version": "3.10.14"
  }
 },
 "nbformat": 4,
 "nbformat_minor": 5
}
